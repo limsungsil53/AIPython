{
  "nbformat": 4,
  "nbformat_minor": 0,
  "metadata": {
    "colab": {
      "provenance": []
    },
    "kernelspec": {
      "name": "python3",
      "display_name": "Python 3"
    },
    "language_info": {
      "name": "python"
    }
  },
  "cells": [
    {
      "cell_type": "markdown",
      "source": [
        "1. 분으 ㄹ입력받아 시간과 분으로 출력하시오."
      ],
      "metadata": {
        "id": "N2u3XpV2IhI5"
      }
    },
    {
      "cell_type": "code",
      "execution_count": 4,
      "metadata": {
        "colab": {
          "base_uri": "https://localhost:8080/"
        },
        "id": "4dyd7CVuvrg5",
        "outputId": "c58818db-d50a-450a-cb53-8c5a37fa1971"
      },
      "outputs": [
        {
          "output_type": "stream",
          "name": "stdout",
          "text": [
            "분을 입력하세요.100\n",
            "1 시간 40 분\n"
          ]
        }
      ],
      "source": [
        "a=int(input(\"분을 입력하세요.\"))\n",
        "\n",
        "b=a//60\n",
        "c=a%60\n",
        "\n",
        "print(b,\"시간\", c, \"분\")\n"
      ]
    },
    {
      "cell_type": "markdown",
      "source": [
        "2. 섭씨 온도를 입력받아 화씨온도를 출력하시오."
      ],
      "metadata": {
        "id": "ut-ecUeYIuBA"
      }
    },
    {
      "cell_type": "code",
      "source": [
        "a=int(input(\"섭씨 온도를 입력하세요.\"))\n",
        "\n",
        "b=a*1.8+32\n",
        "\n",
        "print(\"섭씨%d도는 화씨%.1f도 입니다.\" %(a,b))\n"
      ],
      "metadata": {
        "colab": {
          "base_uri": "https://localhost:8080/"
        },
        "id": "vdh87sJrC20r",
        "outputId": "e9e9941e-a7f0-421c-e8f9-5d84e3180136"
      },
      "execution_count": 11,
      "outputs": [
        {
          "output_type": "stream",
          "name": "stdout",
          "text": [
            "섭씨 온도를 입력하세요.31\n",
            "섭씨31도는 화씨87.8도 입니다.\n"
          ]
        }
      ]
    },
    {
      "cell_type": "markdown",
      "source": [
        "3. 원의 반지름을 입력받아 원의 둘레와 면적을 출력하시오."
      ],
      "metadata": {
        "id": "Eew9zb_bI4GI"
      }
    },
    {
      "cell_type": "code",
      "source": [
        "a=int(input(\"원의 반지름을 입력하세요.\"))\n",
        "\n",
        "b=(a*2)*3.14\n",
        "c=(a**2)*3.14\n",
        "\n",
        "print(\"반지름이 %d인 원의 둘레 %d이고 면적은%d 입니다.\" %(a,b,c))"
      ],
      "metadata": {
        "colab": {
          "base_uri": "https://localhost:8080/"
        },
        "id": "NrIXOd61EN-D",
        "outputId": "4d5c23b2-d049-4e57-a5aa-c1fb38ed7078"
      },
      "execution_count": 9,
      "outputs": [
        {
          "output_type": "stream",
          "name": "stdout",
          "text": [
            "원의 반지름을 입력하세요.4\n",
            "반지름이 4인 원의 둘레 25이고 면적은50 입니다.\n"
          ]
        }
      ]
    }
  ]
}