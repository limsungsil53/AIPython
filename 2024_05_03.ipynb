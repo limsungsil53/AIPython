{
  "nbformat": 4,
  "nbformat_minor": 0,
  "metadata": {
    "colab": {
      "provenance": []
    },
    "kernelspec": {
      "name": "python3",
      "display_name": "Python 3"
    },
    "language_info": {
      "name": "python"
    }
  },
  "cells": [
    {
      "cell_type": "code",
      "execution_count": 2,
      "metadata": {
        "colab": {
          "base_uri": "https://localhost:8080/"
        },
        "id": "1MX3cUOVAi7w",
        "outputId": "b4180eb7-471f-4ffb-d9b5-a5c0b9dbab0b"
      },
      "outputs": [
        {
          "output_type": "stream",
          "name": "stdout",
          "text": [
            "[0 2 4 6 8]\n"
          ]
        }
      ],
      "source": [
        "#1~10까지 2의 간격인 정수값 배열\n",
        "#.arange(start,stop,step) 사용\n",
        "import numpy as np\n",
        "arr=np.arange(0, 10, 2)\n",
        "print(arr)"
      ]
    },
    {
      "cell_type": "code",
      "source": [
        "#모양이 (3,4)인 모든 값이 1인 2차원 배열\n",
        "#.ones(()) 사용\n",
        "ones_2d=np.ones((3, 4))\n",
        "print(ones_2d)"
      ],
      "metadata": {
        "colab": {
          "base_uri": "https://localhost:8080/"
        },
        "id": "dqR6W0o3U6BZ",
        "outputId": "52faa224-8437-4fff-e435-71032f7b908b"
      },
      "execution_count": 3,
      "outputs": [
        {
          "output_type": "stream",
          "name": "stdout",
          "text": [
            "[[1. 1. 1. 1.]\n",
            " [1. 1. 1. 1.]\n",
            " [1. 1. 1. 1.]]\n"
          ]
        }
      ]
    },
    {
      "cell_type": "code",
      "source": [
        "#0~1까지 10등분 값 배열\n",
        "#.linspace(start,stop,num)\n",
        "arr=np.linspace(0, 1, 10)\n",
        "print(arr)"
      ],
      "metadata": {
        "colab": {
          "base_uri": "https://localhost:8080/"
        },
        "id": "4ddq9aEcVWWS",
        "outputId": "dcc6c518-25d9-4b14-9634-bd051bbaa02b"
      },
      "execution_count": 4,
      "outputs": [
        {
          "output_type": "stream",
          "name": "stdout",
          "text": [
            "[0.         0.11111111 0.22222222 0.33333333 0.44444444 0.55555556\n",
            " 0.66666667 0.77777778 0.88888889 1.        ]\n"
          ]
        }
      ]
    },
    {
      "cell_type": "code",
      "source": [
        "#배열의 속성 출력\n",
        "import numpy as np\n",
        "arr1 = np.ones([3,4])\n",
        "print(arr1)\n",
        "print('size :', arr1.size)\n",
        "print('dtype :', arr1.dtype)\n",
        "print('shape :', arr1.shape)\n",
        "print('ndim :',arr1.ndim)\n"
      ],
      "metadata": {
        "colab": {
          "base_uri": "https://localhost:8080/"
        },
        "id": "41wXhqLbXFRK",
        "outputId": "89dfa5d1-4f9c-4c92-9dc7-15091d82ee7f"
      },
      "execution_count": 5,
      "outputs": [
        {
          "output_type": "stream",
          "name": "stdout",
          "text": [
            "[[1. 1. 1. 1.]\n",
            " [1. 1. 1. 1.]\n",
            " [1. 1. 1. 1.]]\n",
            "size : 12\n",
            "dtype : float64\n",
            "shape : (3, 4)\n",
            "ndim : 2\n"
          ]
        }
      ]
    },
    {
      "cell_type": "code",
      "source": [
        "import numpy as np\n",
        "A=np.array([[1,2,3,4,5], [6,7,8,9,10], [11,12,13,14,15], [16,17,18,19,20], [21,22,23,24,25]])\n",
        "print('Shape :', A.shape)\n",
        "print(A[3,3])\n",
        "print(A[:2,:2])\n",
        "print(A[3:,3:])\n",
        "print(A[:2,:])\n",
        "print(A[:,3:])"
      ],
      "metadata": {
        "colab": {
          "base_uri": "https://localhost:8080/"
        },
        "id": "VhySQsrVXl_q",
        "outputId": "38aaf6bf-8739-4491-d4bb-cc776ad0c1cb"
      },
      "execution_count": 21,
      "outputs": [
        {
          "output_type": "stream",
          "name": "stdout",
          "text": [
            "Shape : (5, 5)\n",
            "19\n",
            "[[1 2]\n",
            " [6 7]]\n",
            "[[19 20]\n",
            " [24 25]]\n",
            "[[ 1  2  3  4  5]\n",
            " [ 6  7  8  9 10]]\n",
            "[[ 4  5]\n",
            " [ 9 10]\n",
            " [14 15]\n",
            " [19 20]\n",
            " [24 25]]\n"
          ]
        }
      ]
    },
    {
      "cell_type": "code",
      "source": [
        "A=np.arange(1,37,1)\n",
        "arr_3d=A.reshape(3,3,4)\n",
        "\n",
        "print(arr_3d)\n",
        "print('Shape :', arr_3d.shape)\n",
        "print('Size :', arr_3d.size)\n",
        "\n",
        "re=arr_3d.reshape(3,4,3)\n",
        "print(re)\n",
        "\n",
        "flat=re.flatten()\n",
        "print(flat)"
      ],
      "metadata": {
        "colab": {
          "base_uri": "https://localhost:8080/"
        },
        "id": "ZHuNpfpMckZ8",
        "outputId": "3cc7d83d-3b8a-4eca-d3fe-830f18861bc0"
      },
      "execution_count": 32,
      "outputs": [
        {
          "output_type": "stream",
          "name": "stdout",
          "text": [
            "[[[ 1  2  3  4]\n",
            "  [ 5  6  7  8]\n",
            "  [ 9 10 11 12]]\n",
            "\n",
            " [[13 14 15 16]\n",
            "  [17 18 19 20]\n",
            "  [21 22 23 24]]\n",
            "\n",
            " [[25 26 27 28]\n",
            "  [29 30 31 32]\n",
            "  [33 34 35 36]]]\n",
            "Shape : (3, 3, 4)\n",
            "Size : 36\n",
            "[[[ 1  2  3]\n",
            "  [ 4  5  6]\n",
            "  [ 7  8  9]\n",
            "  [10 11 12]]\n",
            "\n",
            " [[13 14 15]\n",
            "  [16 17 18]\n",
            "  [19 20 21]\n",
            "  [22 23 24]]\n",
            "\n",
            " [[25 26 27]\n",
            "  [28 29 30]\n",
            "  [31 32 33]\n",
            "  [34 35 36]]]\n",
            "[ 1  2  3  4  5  6  7  8  9 10 11 12 13 14 15 16 17 18 19 20 21 22 23 24\n",
            " 25 26 27 28 29 30 31 32 33 34 35 36]\n"
          ]
        }
      ]
    }
  ]
}