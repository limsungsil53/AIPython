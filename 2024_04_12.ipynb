{
  "nbformat": 4,
  "nbformat_minor": 0,
  "metadata": {
    "colab": {
      "provenance": []
    },
    "kernelspec": {
      "name": "python3",
      "display_name": "Python 3"
    },
    "language_info": {
      "name": "python"
    }
  },
  "cells": [
    {
      "cell_type": "code",
      "source": [
        "#\"apple\"요소를 출력\n",
        "fruits=[\"banana\", \"apple\", \"orange\", \"cherry\"]\n",
        "print(fruits[1])\n",
        "\n",
        "#마지막 요소를 출력(-n으로 하면 편리)\n",
        "numbers=[10, 20, 30, 40, 50]\n",
        "print(numbers[-1])"
      ],
      "metadata": {
        "colab": {
          "base_uri": "https://localhost:8080/"
        },
        "id": "s2fNuSGmF-Tm",
        "outputId": "8fce86bc-c9de-4e20-8bca-6011dd1f530d"
      },
      "execution_count": 20,
      "outputs": [
        {
          "output_type": "stream",
          "name": "stdout",
          "text": [
            "apple\n",
            "50\n"
          ]
        }
      ]
    },
    {
      "cell_type": "code",
      "execution_count": 14,
      "metadata": {
        "colab": {
          "base_uri": "https://localhost:8080/"
        },
        "id": "newmSXvC3mrV",
        "outputId": "f5988dc2-676b-4fcd-c5cb-4d6785cf4132"
      },
      "outputs": [
        {
          "output_type": "stream",
          "name": "stdout",
          "text": [
            "['apple', 'grape', 'cherry']\n"
          ]
        }
      ],
      "source": [
        "#\"banana\"를 \"grape\"로 변경\n",
        "fruits=[\"apple\", \"banana\", \"cherry\"]\n",
        "fruits.remove(\"banana\")\n",
        "fruits.insert(1, \"grape\")\n",
        "print(fruits)"
      ]
    },
    {
      "cell_type": "code",
      "source": [
        "#\"strawberry\" 요소를 추가\n",
        "fruits=[\"apple\", \"banana\", \"cherry\"]\n",
        "fruits.append(\"strawberry\")\n",
        "print(fruits)"
      ],
      "metadata": {
        "colab": {
          "base_uri": "https://localhost:8080/"
        },
        "id": "04iXul2DFy6H",
        "outputId": "cb0ca6e5-b6bf-4735-eec0-22740ffc6caf"
      },
      "execution_count": 16,
      "outputs": [
        {
          "output_type": "stream",
          "name": "stdout",
          "text": [
            "['apple', 'banana', 'cherry', 'strawberry']\n"
          ]
        }
      ]
    },
    {
      "cell_type": "code",
      "source": [
        "#30을 제거\n",
        "numbers=[10, 20, 30, 40, 50]\n",
        "numbers.pop(2)\n",
        "print(numbers)"
      ],
      "metadata": {
        "colab": {
          "base_uri": "https://localhost:8080/"
        },
        "id": "Qaxn8AraGssA",
        "outputId": "2c3bea99-09ad-4e33-9604-d099451c6593"
      },
      "execution_count": 19,
      "outputs": [
        {
          "output_type": "stream",
          "name": "stdout",
          "text": [
            "[10, 20, 40, 50]\n"
          ]
        }
      ]
    },
    {
      "cell_type": "code",
      "source": [
        "#다음 리스트의 길이를 출력\n",
        "numbers=[5, 10, 15, 20, 25]\n",
        "print(len(numbers))"
      ],
      "metadata": {
        "colab": {
          "base_uri": "https://localhost:8080/"
        },
        "id": "RrP82uiuHGN_",
        "outputId": "4c0fd716-427d-4ccb-ded9-4185c68516f2"
      },
      "execution_count": 24,
      "outputs": [
        {
          "output_type": "stream",
          "name": "stdout",
          "text": [
            "5\n"
          ]
        }
      ]
    },
    {
      "cell_type": "code",
      "source": [
        "#가장 작은 값/가장 큰 값을 찾아 출력\n",
        "numbers=[10, 5, 8, 3, 15]\n",
        "print(min(numbers))\n",
        "print(max(numbers))"
      ],
      "metadata": {
        "colab": {
          "base_uri": "https://localhost:8080/"
        },
        "id": "P94a7g_mHnK4",
        "outputId": "d913e744-7859-40a4-fe2f-b36681d939f1"
      },
      "execution_count": 23,
      "outputs": [
        {
          "output_type": "stream",
          "name": "stdout",
          "text": [
            "3\n",
            "15\n"
          ]
        }
      ]
    },
    {
      "cell_type": "code",
      "source": [
        "#리스트의 모든 요소의 합 개산해 출력\n",
        "numbers=[10, 20, 30, 40, 50]\n",
        "print(sum(numbers))"
      ],
      "metadata": {
        "colab": {
          "base_uri": "https://localhost:8080/"
        },
        "id": "bVcrx5plIVCW",
        "outputId": "1c8c7067-0b33-442a-a804-7128929e8030"
      },
      "execution_count": 25,
      "outputs": [
        {
          "output_type": "stream",
          "name": "stdout",
          "text": [
            "150\n"
          ]
        }
      ]
    },
    {
      "cell_type": "code",
      "source": [
        "numbers=[1,2,3,4,5]\n",
        "newlist=[]\n",
        "for num in numbers:\n",
        "  newlist.append(num**2)\n",
        "print(newlist)"
      ],
      "metadata": {
        "colab": {
          "base_uri": "https://localhost:8080/"
        },
        "id": "NfeDqED5Ipvp",
        "outputId": "02523343-9d1c-4b1a-ecf2-052a7665d4f7"
      },
      "execution_count": 31,
      "outputs": [
        {
          "output_type": "stream",
          "name": "stdout",
          "text": [
            "[1, 4, 9, 16, 25]\n"
          ]
        }
      ]
    },
    {
      "cell_type": "code",
      "source": [
        "#함수 정의\n",
        "def square(x):\n",
        "  return x**2\n",
        "#함수 호출(갑을 반환 받음)\n",
        "ret=square(6)\n",
        "print(ret)"
      ],
      "metadata": {
        "colab": {
          "base_uri": "https://localhost:8080/"
        },
        "id": "SUFthshMLHvJ",
        "outputId": "d2806a1c-917a-44fe-a583-662dd32100d7"
      },
      "execution_count": 36,
      "outputs": [
        {
          "output_type": "stream",
          "name": "stdout",
          "text": [
            "36\n"
          ]
        }
      ]
    },
    {
      "cell_type": "code",
      "source": [
        "#코드의 재사용\n",
        "print(square(5))\n",
        "print(square(10))\n",
        "print(square(15))\n",
        "print(square(20))"
      ],
      "metadata": {
        "colab": {
          "base_uri": "https://localhost:8080/"
        },
        "id": "zSCGcz25MPPw",
        "outputId": "752d2498-2eb8-48bf-8dd9-faa342b9c5cd"
      },
      "execution_count": 30,
      "outputs": [
        {
          "output_type": "stream",
          "name": "stdout",
          "text": [
            "25\n",
            "100\n",
            "225\n",
            "400\n"
          ]
        }
      ]
    },
    {
      "cell_type": "code",
      "source": [
        "def square(numbers):\n",
        "  newlist=[]\n",
        "  for num in numbers:\n",
        "    newlist.append(num**2)\n",
        "    return newlist"
      ],
      "metadata": {
        "id": "HPbkS9PDOFmx"
      },
      "execution_count": 38,
      "outputs": []
    },
    {
      "cell_type": "code",
      "source": [
        "new=square([1,2,3,4,5,6])\n",
        "print(new)"
      ],
      "metadata": {
        "colab": {
          "base_uri": "https://localhost:8080/"
        },
        "id": "Q2dcjEGbM9jI",
        "outputId": "86e550e1-0f0c-4477-c858-2d7268cf72aa"
      },
      "execution_count": 39,
      "outputs": [
        {
          "output_type": "stream",
          "name": "stdout",
          "text": [
            "[1]\n"
          ]
        }
      ]
    },
    {
      "cell_type": "code",
      "source": [
        "def BMI(h,w):\n",
        "  bmi=w/((h/100)**2)\n",
        "  return bmi\n",
        "\n",
        "w=int(input(\"체중\"))\n",
        "h=int(input(\"신장\"))\n",
        "\n",
        "bmi=BMI(h,w)\n",
        "print(\"BMI지수는\", bmi)"
      ],
      "metadata": {
        "colab": {
          "base_uri": "https://localhost:8080/"
        },
        "id": "17IFlk7KPNNI",
        "outputId": "0c5ef155-f523-4aa5-8af3-72949d79c213"
      },
      "execution_count": 44,
      "outputs": [
        {
          "output_type": "stream",
          "name": "stdout",
          "text": [
            "체중90\n",
            "신장180\n",
            "BMI지수는 27.777777777777775\n"
          ]
        }
      ]
    }
  ]
}