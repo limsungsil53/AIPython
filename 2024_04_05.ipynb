{
  "nbformat": 4,
  "nbformat_minor": 0,
  "metadata": {
    "colab": {
      "provenance": []
    },
    "kernelspec": {
      "name": "python3",
      "display_name": "Python 3"
    },
    "language_info": {
      "name": "python"
    }
  },
  "cells": [
    {
      "cell_type": "markdown",
      "source": [
        "if 조건문"
      ],
      "metadata": {
        "id": "sSZwHiyS9gvu"
      }
    },
    {
      "cell_type": "code",
      "execution_count": 1,
      "metadata": {
        "colab": {
          "base_uri": "https://localhost:8080/"
        },
        "id": "V5fjC3YAyzr5",
        "outputId": "028dabd9-4bc8-4218-d04d-fea10cdcb763"
      },
      "outputs": [
        {
          "output_type": "stream",
          "name": "stdout",
          "text": [
            "A는 5보다 크다.\n",
            "프로그램 종료\n"
          ]
        }
      ],
      "source": [
        "a=10\n",
        "if a>5:\n",
        "  print('A는 5보다 크다.')\n",
        "print('프로그램 종료')"
      ]
    },
    {
      "cell_type": "markdown",
      "source": [
        "elif 조건문"
      ],
      "metadata": {
        "id": "rGFOT9569mS-"
      }
    },
    {
      "cell_type": "code",
      "source": [
        "a=5\n",
        "if a>5:\n",
        "  print('A는 5보다 크다.')\n",
        "elif a<=5:\n",
        "  print('A는 5이하 입니다.')"
      ],
      "metadata": {
        "colab": {
          "base_uri": "https://localhost:8080/"
        },
        "id": "mInOVbqL5Pj3",
        "outputId": "dd68f54f-1a4f-4ac6-d96e-ea9656f00373"
      },
      "execution_count": 3,
      "outputs": [
        {
          "output_type": "stream",
          "name": "stdout",
          "text": [
            "a는 5이하 입니다.\n"
          ]
        }
      ]
    },
    {
      "cell_type": "markdown",
      "source": [
        "->홀수, 짝수 구하기"
      ],
      "metadata": {
        "id": "FWFWRuDu_dGX"
      }
    },
    {
      "cell_type": "code",
      "source": [
        "a=10\n",
        "if a%2==1:\n",
        "  print('A는 홀수 입니다.')\n",
        "elif a%2==0:\n",
        "  print('A는 짝수 입니다.')"
      ],
      "metadata": {
        "colab": {
          "base_uri": "https://localhost:8080/"
        },
        "id": "hEZVjjE150E-",
        "outputId": "70749f78-af9f-442d-8110-1660ab4aa636"
      },
      "execution_count": 5,
      "outputs": [
        {
          "output_type": "stream",
          "name": "stdout",
          "text": [
            "A는 짝수 입니다.\n"
          ]
        }
      ]
    },
    {
      "cell_type": "markdown",
      "source": [
        "else 조건문"
      ],
      "metadata": {
        "id": "fU_kHKN5_n1G"
      }
    },
    {
      "cell_type": "code",
      "source": [
        "a=5\n",
        "if a>5:\n",
        "  print('A는 5보다 크다.')\n",
        "elif a<5:\n",
        "  print('A는 5보다 작다.')\n",
        "else:\n",
        "  print('A는 5이다.')"
      ],
      "metadata": {
        "colab": {
          "base_uri": "https://localhost:8080/"
        },
        "id": "DM_h2zne7jBn",
        "outputId": "40d363df-6e55-4d29-a278-effda1a57c3c"
      },
      "execution_count": 6,
      "outputs": [
        {
          "output_type": "stream",
          "name": "stdout",
          "text": [
            "A는 5이다.\n"
          ]
        }
      ]
    },
    {
      "cell_type": "markdown",
      "source": [
        "중첩조건문"
      ],
      "metadata": {
        "id": "IP-mNNjhA6nf"
      }
    },
    {
      "cell_type": "code",
      "source": [
        "a=10\n",
        "b=5\n",
        "if a>5:\n",
        "  if b<10:\n",
        "    print('a는 5보다 크고 b는 10보다 작습니다.')"
      ],
      "metadata": {
        "colab": {
          "base_uri": "https://localhost:8080/"
        },
        "id": "4gxP9Ap88ug_",
        "outputId": "51ec1b9a-46b4-419f-c1ce-876282a3e57f"
      },
      "execution_count": 7,
      "outputs": [
        {
          "output_type": "stream",
          "name": "stdout",
          "text": [
            "a는 5보다 크고 b는 10보다 작습니다.\n"
          ]
        }
      ]
    },
    {
      "cell_type": "markdown",
      "source": [
        "and 이용"
      ],
      "metadata": {
        "id": "P1DXCBMuBDGX"
      }
    },
    {
      "cell_type": "code",
      "source": [
        "a=10\n",
        "b=5\n",
        "if a>5 and b<10:\n",
        "  print('a는 5보다 크고 b는 10보다 작습니다.')"
      ],
      "metadata": {
        "colab": {
          "base_uri": "https://localhost:8080/"
        },
        "id": "R6067Fpg9ee_",
        "outputId": "405bf4ac-fd78-481b-ee3f-37d14828964a"
      },
      "execution_count": 10,
      "outputs": [
        {
          "output_type": "stream",
          "name": "stdout",
          "text": [
            "a는 5보다 크고 b는 10보다 작습니다.\n"
          ]
        }
      ]
    },
    {
      "cell_type": "markdown",
      "source": [
        "->0~100 점수로 등급나누기"
      ],
      "metadata": {
        "id": "Ic03xZSCBPa2"
      }
    },
    {
      "cell_type": "code",
      "source": [
        "a=int(input('점수를 입력하세요.'))\n",
        "if a>=90:\n",
        "  print('A')\n",
        "elif a>=80:\n",
        "  print('B.')\n",
        "elif a>=70:\n",
        "  print('C')\n",
        "elif a>=60:\n",
        "  print('D')\n",
        "else:\n",
        "  print('F')"
      ],
      "metadata": {
        "colab": {
          "base_uri": "https://localhost:8080/"
        },
        "id": "kqHcAtXW97hP",
        "outputId": "6f5adbfb-0dd4-4800-978e-982b85bba54c"
      },
      "execution_count": 15,
      "outputs": [
        {
          "output_type": "stream",
          "name": "stdout",
          "text": [
            "점수를 입력하세요.40\n",
            "F\n"
          ]
        }
      ]
    },
    {
      "cell_type": "code",
      "source": [
        "a=[1,2,3,4,5]\n",
        "for i in a:\n",
        "  print(i)"
      ],
      "metadata": {
        "colab": {
          "base_uri": "https://localhost:8080/"
        },
        "id": "qHECW-F3AOxf",
        "outputId": "681c3ff9-fbe3-4387-8b61-d670e1b15877"
      },
      "execution_count": 16,
      "outputs": [
        {
          "output_type": "stream",
          "name": "stdout",
          "text": [
            "1\n",
            "2\n",
            "3\n",
            "4\n",
            "5\n"
          ]
        }
      ]
    },
    {
      "cell_type": "code",
      "source": [
        "a=[1,2,3,4,5]\n",
        "for i in a:\n",
        "  print(i, end='')"
      ],
      "metadata": {
        "colab": {
          "base_uri": "https://localhost:8080/"
        },
        "id": "xov2L2OrFjzI",
        "outputId": "057da84c-5297-4aa9-cccb-42978f5f372a"
      },
      "execution_count": 17,
      "outputs": [
        {
          "output_type": "stream",
          "name": "stdout",
          "text": [
            "12345"
          ]
        }
      ]
    },
    {
      "cell_type": "code",
      "source": [
        "a=[1,2,3,4,5]\n",
        "tot=0\n",
        "for i in a:\n",
        "  print(i)\n",
        "  tot+=i\n",
        "print(tot)"
      ],
      "metadata": {
        "colab": {
          "base_uri": "https://localhost:8080/"
        },
        "id": "KzTNCkeNFtqo",
        "outputId": "909d3663-6cbe-4d35-d831-67697e886c80"
      },
      "execution_count": 49,
      "outputs": [
        {
          "output_type": "stream",
          "name": "stdout",
          "text": [
            "1\n",
            "2\n",
            "3\n",
            "4\n",
            "5\n",
            "15\n"
          ]
        }
      ]
    },
    {
      "cell_type": "code",
      "source": [
        "for i in range(1,11):\n",
        "  print(i)"
      ],
      "metadata": {
        "colab": {
          "base_uri": "https://localhost:8080/"
        },
        "id": "He4p9bZ8HHwB",
        "outputId": "203686e1-d1f3-4fe9-9b73-6aeff95f09d4"
      },
      "execution_count": 24,
      "outputs": [
        {
          "output_type": "stream",
          "name": "stdout",
          "text": [
            "1\n",
            "2\n",
            "3\n",
            "4\n",
            "5\n",
            "6\n",
            "7\n",
            "8\n",
            "9\n",
            "10\n"
          ]
        }
      ]
    },
    {
      "cell_type": "code",
      "source": [
        "for i in range(1,11,2):\n",
        "  print(i)"
      ],
      "metadata": {
        "colab": {
          "base_uri": "https://localhost:8080/"
        },
        "id": "bbnILp3zIJkX",
        "outputId": "3603ca1d-d2cd-44b9-82d2-ecb713a1f78f"
      },
      "execution_count": 25,
      "outputs": [
        {
          "output_type": "stream",
          "name": "stdout",
          "text": [
            "1\n",
            "3\n",
            "5\n",
            "7\n",
            "9\n"
          ]
        }
      ]
    },
    {
      "cell_type": "markdown",
      "source": [
        "->1~100까지 짝수"
      ],
      "metadata": {
        "id": "VibUKUrfI09H"
      }
    },
    {
      "cell_type": "code",
      "source": [
        "for i in range(2,101,2):\n",
        "  print(i)"
      ],
      "metadata": {
        "colab": {
          "base_uri": "https://localhost:8080/"
        },
        "id": "_NKrhdLFIPXX",
        "outputId": "95c1f840-a4af-4eef-8265-c8bcf211f02e"
      },
      "execution_count": 27,
      "outputs": [
        {
          "output_type": "stream",
          "name": "stdout",
          "text": [
            "2\n",
            "4\n",
            "6\n",
            "8\n",
            "10\n",
            "12\n",
            "14\n",
            "16\n",
            "18\n",
            "20\n",
            "22\n",
            "24\n",
            "26\n",
            "28\n",
            "30\n",
            "32\n",
            "34\n",
            "36\n",
            "38\n",
            "40\n",
            "42\n",
            "44\n",
            "46\n",
            "48\n",
            "50\n",
            "52\n",
            "54\n",
            "56\n",
            "58\n",
            "60\n",
            "62\n",
            "64\n",
            "66\n",
            "68\n",
            "70\n",
            "72\n",
            "74\n",
            "76\n",
            "78\n",
            "80\n",
            "82\n",
            "84\n",
            "86\n",
            "88\n",
            "90\n",
            "92\n",
            "94\n",
            "96\n",
            "98\n",
            "100\n"
          ]
        }
      ]
    },
    {
      "cell_type": "code",
      "source": [
        "for i in range(1,101,2):\n",
        "  print(i)"
      ],
      "metadata": {
        "colab": {
          "base_uri": "https://localhost:8080/"
        },
        "id": "_12XGDvyIf6Y",
        "outputId": "4e222f80-86fa-496b-bec8-e8f2d74fa286"
      },
      "execution_count": 28,
      "outputs": [
        {
          "output_type": "stream",
          "name": "stdout",
          "text": [
            "1\n",
            "3\n",
            "5\n",
            "7\n",
            "9\n",
            "11\n",
            "13\n",
            "15\n",
            "17\n",
            "19\n",
            "21\n",
            "23\n",
            "25\n",
            "27\n",
            "29\n",
            "31\n",
            "33\n",
            "35\n",
            "37\n",
            "39\n",
            "41\n",
            "43\n",
            "45\n",
            "47\n",
            "49\n",
            "51\n",
            "53\n",
            "55\n",
            "57\n",
            "59\n",
            "61\n",
            "63\n",
            "65\n",
            "67\n",
            "69\n",
            "71\n",
            "73\n",
            "75\n",
            "77\n",
            "79\n",
            "81\n",
            "83\n",
            "85\n",
            "87\n",
            "89\n",
            "91\n",
            "93\n",
            "95\n",
            "97\n",
            "99\n"
          ]
        }
      ]
    },
    {
      "cell_type": "markdown",
      "source": [
        "continue문 ->짝수"
      ],
      "metadata": {
        "id": "Xk9iOMqYKBD3"
      }
    },
    {
      "cell_type": "code",
      "source": [
        "for i in range(1,101):\n",
        "  if i%2==1:\n",
        "    continue\n",
        "  print(i)"
      ],
      "metadata": {
        "colab": {
          "base_uri": "https://localhost:8080/"
        },
        "id": "Uj8YJAjLJZ9_",
        "outputId": "d220fbf4-6c9f-4cd3-fe59-22d9e2418ec4"
      },
      "execution_count": 34,
      "outputs": [
        {
          "output_type": "stream",
          "name": "stdout",
          "text": [
            "2\n",
            "4\n",
            "6\n",
            "8\n",
            "10\n",
            "12\n",
            "14\n",
            "16\n",
            "18\n",
            "20\n",
            "22\n",
            "24\n",
            "26\n",
            "28\n",
            "30\n",
            "32\n",
            "34\n",
            "36\n",
            "38\n",
            "40\n",
            "42\n",
            "44\n",
            "46\n",
            "48\n",
            "50\n",
            "52\n",
            "54\n",
            "56\n",
            "58\n",
            "60\n",
            "62\n",
            "64\n",
            "66\n",
            "68\n",
            "70\n",
            "72\n",
            "74\n",
            "76\n",
            "78\n",
            "80\n",
            "82\n",
            "84\n",
            "86\n",
            "88\n",
            "90\n",
            "92\n",
            "94\n",
            "96\n",
            "98\n",
            "100\n"
          ]
        }
      ]
    },
    {
      "cell_type": "markdown",
      "source": [
        "continue문 ->홀수"
      ],
      "metadata": {
        "id": "KN9V5-0kKPaX"
      }
    },
    {
      "cell_type": "code",
      "source": [
        "for i in range(1,101):\n",
        "  if i%2==0:\n",
        "    continue\n",
        "  print(i)"
      ],
      "metadata": {
        "colab": {
          "base_uri": "https://localhost:8080/"
        },
        "id": "_b8jwCZlKMLI",
        "outputId": "e8b86ed9-db78-4d0e-b5d9-dba1519263b0"
      },
      "execution_count": 37,
      "outputs": [
        {
          "output_type": "stream",
          "name": "stdout",
          "text": [
            "1\n",
            "3\n",
            "5\n",
            "7\n",
            "9\n",
            "11\n",
            "13\n",
            "15\n",
            "17\n",
            "19\n",
            "21\n",
            "23\n",
            "25\n",
            "27\n",
            "29\n",
            "31\n",
            "33\n",
            "35\n",
            "37\n",
            "39\n",
            "41\n",
            "43\n",
            "45\n",
            "47\n",
            "49\n",
            "51\n",
            "53\n",
            "55\n",
            "57\n",
            "59\n",
            "61\n",
            "63\n",
            "65\n",
            "67\n",
            "69\n",
            "71\n",
            "73\n",
            "75\n",
            "77\n",
            "79\n",
            "81\n",
            "83\n",
            "85\n",
            "87\n",
            "89\n",
            "91\n",
            "93\n",
            "95\n",
            "97\n",
            "99\n"
          ]
        }
      ]
    },
    {
      "cell_type": "code",
      "source": [
        "홀수합=int()\n",
        "짝수합=int()\n",
        "for i in range(1,11):\n",
        "  if i%2==1:\n",
        "    홀수합+=i\n",
        "  else:\n",
        "    짝수합+=i\n",
        "print(홀수합)\n",
        "print(짝수합)"
      ],
      "metadata": {
        "colab": {
          "base_uri": "https://localhost:8080/"
        },
        "id": "Yr41zavTMAeg",
        "outputId": "f20b70f0-e924-45aa-b498-4282b9cc848a"
      },
      "execution_count": 42,
      "outputs": [
        {
          "output_type": "stream",
          "name": "stdout",
          "text": [
            "25\n",
            "30\n"
          ]
        }
      ]
    },
    {
      "cell_type": "code",
      "source": [
        "#n의 값을 입력받아라\n",
        "#1-n까지 반복\n",
        "   #합을 계산\n",
        "#합을 출력\n",
        "a=int(input('n의 값을입력하세요.'))\n",
        "tot=0\n",
        "for i in range(a+1):\n",
        "  tot+=i\n",
        "print(tot)"
      ],
      "metadata": {
        "colab": {
          "base_uri": "https://localhost:8080/"
        },
        "id": "4RghvYRwN1Cp",
        "outputId": "ab5704e9-b76a-4e76-da26-98f333fadf48"
      },
      "execution_count": 48,
      "outputs": [
        {
          "output_type": "stream",
          "name": "stdout",
          "text": [
            "n의 값을입력하세요.10\n",
            "55\n"
          ]
        }
      ]
    }
  ]
}